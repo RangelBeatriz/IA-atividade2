{
  "nbformat": 4,
  "nbformat_minor": 0,
  "metadata": {
    "colab": {
      "name": "Trabalho2.ipynb",
      "provenance": [],
      "collapsed_sections": [],
      "authorship_tag": "ABX9TyPAhhifeaYoJf9T6i+5JAp/"
    },
    "kernelspec": {
      "name": "python3",
      "display_name": "Python 3"
    },
    "language_info": {
      "name": "python"
    }
  },
  "cells": [
    {
      "cell_type": "markdown",
      "metadata": {
        "id": "DokwXHtKzCtL"
      },
      "source": [
        "#Atividade 2\n",
        "\n",
        "##Informações sobre o dataset\n",
        "O dataset escolhido foi o ['Algerian Forest Fires'](https://archive.ics.uci.edu/ml/datasets/Algerian+Forest+Fires+Dataset++). Neste dataset, temos 244 instâncias de duas regiões do norte da Algéria, sendo 122 de cada. Neste trabalho, serão analisados os dados da [região de Bejaia](https://drive.google.com/file/d/11sn_kurS6iJlbA13iSa4ztbBVmzrfMFr/view?usp=sharing). Os dados foram tomados de junho de 2012 a setembro de 2012. São 11 atributos e um valor de saída, nomeados da seguinte forma:\n",
        "1. Date: (DD/MM/YYYY) Dia, mês e ano.\n",
        "\n",
        "Observações climáticas:\n",
        "2. Temp : Temperatura máxima em Celsius: de 22 a 42\n",
        "3. RH : Umidade relativa em %: 21 a 90\n",
        "4. Ws : Velocidade do vento em km/h: 6 a 29\n",
        "5. Rain: total diário em mm: 0 a 16.8 \n",
        "\n",
        "Componentes FWI(Índice de Risco de Incêndio)\n",
        "6. Umidade do combustível fino(FFMC) índice do sistema FWI: 28.6 a 92.5\n",
        "7. Umidade de matéria orgânica(DMC) índice do sistema FWI: 1.1 a 65.9\n",
        "8. Nível de seca(DC) índice do sistema FWI: 7 a 220.4\n",
        "9. Índice de propagação inicial(ISI) índice do sistema FWI: 0 a 18.5\n",
        "10. Índice de acúmulo(BUI) índice do sistema FWI: 1.1 a 68\n",
        "11. Índice de clima para fogo(FWI) Índice: 0 to 31.1\n",
        "12. Classes: duas classes, chamadas 'Fire' e 'not Fire'"
      ]
    },
    {
      "cell_type": "markdown",
      "metadata": {
        "id": "Q-5ThH07EZDS"
      },
      "source": [
        "##Importando as bibliotecas e o dataset"
      ]
    },
    {
      "cell_type": "code",
      "metadata": {
        "id": "Xgjk0qELy9Aq"
      },
      "source": [
        "import numpy as np\n",
        "import matplotlib as plt\n",
        "import pandas as pd\n",
        "from sklearn import metrics\n",
        "from sklearn import svm\n",
        "from sklearn.naive_bayes import GaussianNB\n",
        "from sklearn.model_selection import train_test_split\n",
        "from sklearn.model_selection import cross_val_score\n",
        "from sklearn import tree\n",
        "from sklearn.cluster import KMeans\n"
      ],
      "execution_count": null,
      "outputs": []
    },
    {
      "cell_type": "code",
      "metadata": {
        "id": "oIeDcF2w9F9o"
      },
      "source": [
        "import io\n",
        "from google.colab import files\n",
        "uploaded = files.upload()\n",
        "algfires_df = pd.read_csv(io.BytesIO(uploaded['algerian_fires.csv']))"
      ],
      "execution_count": null,
      "outputs": []
    },
    {
      "cell_type": "markdown",
      "metadata": {
        "id": "3ekMarLKMgaj"
      },
      "source": [
        "\n",
        "##Parte 1\n",
        "###A)\n",
        "* Selecionando as colunas para aplicar o Naive-Bayes."
      ]
    },
    {
      "cell_type": "code",
      "metadata": {
        "colab": {
          "base_uri": "https://localhost:8080/",
          "height": 419
        },
        "id": "VeOEhDz3k88V",
        "outputId": "75d72249-65c8-412d-f7d3-3553abb9276e"
      },
      "source": [
        "df = algfires_df[['Temperature', 'RH', 'Ws', 'Rain', 'FFMC', 'DMC', 'DC', 'ISI', 'BUI', 'FWI', 'Classes']]\n",
        "df"
      ],
      "execution_count": null,
      "outputs": [
        {
          "output_type": "execute_result",
          "data": {
            "text/html": [
              "<div>\n",
              "<style scoped>\n",
              "    .dataframe tbody tr th:only-of-type {\n",
              "        vertical-align: middle;\n",
              "    }\n",
              "\n",
              "    .dataframe tbody tr th {\n",
              "        vertical-align: top;\n",
              "    }\n",
              "\n",
              "    .dataframe thead th {\n",
              "        text-align: right;\n",
              "    }\n",
              "</style>\n",
              "<table border=\"1\" class=\"dataframe\">\n",
              "  <thead>\n",
              "    <tr style=\"text-align: right;\">\n",
              "      <th></th>\n",
              "      <th>Temperature</th>\n",
              "      <th>RH</th>\n",
              "      <th>Ws</th>\n",
              "      <th>Rain</th>\n",
              "      <th>FFMC</th>\n",
              "      <th>DMC</th>\n",
              "      <th>DC</th>\n",
              "      <th>ISI</th>\n",
              "      <th>BUI</th>\n",
              "      <th>FWI</th>\n",
              "      <th>Classes</th>\n",
              "    </tr>\n",
              "  </thead>\n",
              "  <tbody>\n",
              "    <tr>\n",
              "      <th>0</th>\n",
              "      <td>29</td>\n",
              "      <td>57</td>\n",
              "      <td>18</td>\n",
              "      <td>0.0</td>\n",
              "      <td>65.7</td>\n",
              "      <td>3.4</td>\n",
              "      <td>7.6</td>\n",
              "      <td>1.3</td>\n",
              "      <td>3.4</td>\n",
              "      <td>0.5</td>\n",
              "      <td>not fire</td>\n",
              "    </tr>\n",
              "    <tr>\n",
              "      <th>1</th>\n",
              "      <td>29</td>\n",
              "      <td>61</td>\n",
              "      <td>13</td>\n",
              "      <td>1.3</td>\n",
              "      <td>64.4</td>\n",
              "      <td>4.1</td>\n",
              "      <td>7.6</td>\n",
              "      <td>1.0</td>\n",
              "      <td>3.9</td>\n",
              "      <td>0.4</td>\n",
              "      <td>not fire</td>\n",
              "    </tr>\n",
              "    <tr>\n",
              "      <th>2</th>\n",
              "      <td>26</td>\n",
              "      <td>82</td>\n",
              "      <td>22</td>\n",
              "      <td>13.1</td>\n",
              "      <td>47.1</td>\n",
              "      <td>2.5</td>\n",
              "      <td>7.1</td>\n",
              "      <td>0.3</td>\n",
              "      <td>2.7</td>\n",
              "      <td>0.1</td>\n",
              "      <td>not fire</td>\n",
              "    </tr>\n",
              "    <tr>\n",
              "      <th>3</th>\n",
              "      <td>25</td>\n",
              "      <td>89</td>\n",
              "      <td>13</td>\n",
              "      <td>2.5</td>\n",
              "      <td>28.6</td>\n",
              "      <td>1.3</td>\n",
              "      <td>6.9</td>\n",
              "      <td>0.0</td>\n",
              "      <td>1.7</td>\n",
              "      <td>0.0</td>\n",
              "      <td>not fire</td>\n",
              "    </tr>\n",
              "    <tr>\n",
              "      <th>4</th>\n",
              "      <td>27</td>\n",
              "      <td>77</td>\n",
              "      <td>16</td>\n",
              "      <td>0.0</td>\n",
              "      <td>64.8</td>\n",
              "      <td>3.0</td>\n",
              "      <td>14.2</td>\n",
              "      <td>1.2</td>\n",
              "      <td>3.9</td>\n",
              "      <td>0.5</td>\n",
              "      <td>not fire</td>\n",
              "    </tr>\n",
              "    <tr>\n",
              "      <th>...</th>\n",
              "      <td>...</td>\n",
              "      <td>...</td>\n",
              "      <td>...</td>\n",
              "      <td>...</td>\n",
              "      <td>...</td>\n",
              "      <td>...</td>\n",
              "      <td>...</td>\n",
              "      <td>...</td>\n",
              "      <td>...</td>\n",
              "      <td>...</td>\n",
              "      <td>...</td>\n",
              "    </tr>\n",
              "    <tr>\n",
              "      <th>117</th>\n",
              "      <td>31</td>\n",
              "      <td>54</td>\n",
              "      <td>11</td>\n",
              "      <td>0.0</td>\n",
              "      <td>82.0</td>\n",
              "      <td>6.0</td>\n",
              "      <td>16.3</td>\n",
              "      <td>2.5</td>\n",
              "      <td>6.2</td>\n",
              "      <td>1.7</td>\n",
              "      <td>not fire</td>\n",
              "    </tr>\n",
              "    <tr>\n",
              "      <th>118</th>\n",
              "      <td>31</td>\n",
              "      <td>66</td>\n",
              "      <td>11</td>\n",
              "      <td>0.0</td>\n",
              "      <td>85.7</td>\n",
              "      <td>8.3</td>\n",
              "      <td>24.9</td>\n",
              "      <td>4.0</td>\n",
              "      <td>9.0</td>\n",
              "      <td>4.1</td>\n",
              "      <td>fire</td>\n",
              "    </tr>\n",
              "    <tr>\n",
              "      <th>119</th>\n",
              "      <td>32</td>\n",
              "      <td>47</td>\n",
              "      <td>14</td>\n",
              "      <td>0.7</td>\n",
              "      <td>77.5</td>\n",
              "      <td>7.1</td>\n",
              "      <td>8.8</td>\n",
              "      <td>1.8</td>\n",
              "      <td>6.8</td>\n",
              "      <td>0.9</td>\n",
              "      <td>not fire</td>\n",
              "    </tr>\n",
              "    <tr>\n",
              "      <th>120</th>\n",
              "      <td>26</td>\n",
              "      <td>80</td>\n",
              "      <td>16</td>\n",
              "      <td>1.8</td>\n",
              "      <td>47.4</td>\n",
              "      <td>2.9</td>\n",
              "      <td>7.7</td>\n",
              "      <td>0.3</td>\n",
              "      <td>3.0</td>\n",
              "      <td>0.1</td>\n",
              "      <td>not fire</td>\n",
              "    </tr>\n",
              "    <tr>\n",
              "      <th>121</th>\n",
              "      <td>25</td>\n",
              "      <td>78</td>\n",
              "      <td>14</td>\n",
              "      <td>1.4</td>\n",
              "      <td>45.0</td>\n",
              "      <td>1.9</td>\n",
              "      <td>7.5</td>\n",
              "      <td>0.2</td>\n",
              "      <td>2.4</td>\n",
              "      <td>0.1</td>\n",
              "      <td>not fire</td>\n",
              "    </tr>\n",
              "  </tbody>\n",
              "</table>\n",
              "<p>122 rows × 11 columns</p>\n",
              "</div>"
            ],
            "text/plain": [
              "     Temperature  RH  Ws  Rain  FFMC  DMC    DC  ISI  BUI  FWI   Classes\n",
              "0             29  57  18   0.0  65.7  3.4   7.6  1.3  3.4  0.5  not fire\n",
              "1             29  61  13   1.3  64.4  4.1   7.6  1.0  3.9  0.4  not fire\n",
              "2             26  82  22  13.1  47.1  2.5   7.1  0.3  2.7  0.1  not fire\n",
              "3             25  89  13   2.5  28.6  1.3   6.9  0.0  1.7  0.0  not fire\n",
              "4             27  77  16   0.0  64.8  3.0  14.2  1.2  3.9  0.5  not fire\n",
              "..           ...  ..  ..   ...   ...  ...   ...  ...  ...  ...       ...\n",
              "117           31  54  11   0.0  82.0  6.0  16.3  2.5  6.2  1.7  not fire\n",
              "118           31  66  11   0.0  85.7  8.3  24.9  4.0  9.0  4.1      fire\n",
              "119           32  47  14   0.7  77.5  7.1   8.8  1.8  6.8  0.9  not fire\n",
              "120           26  80  16   1.8  47.4  2.9   7.7  0.3  3.0  0.1  not fire\n",
              "121           25  78  14   1.4  45.0  1.9   7.5  0.2  2.4  0.1  not fire\n",
              "\n",
              "[122 rows x 11 columns]"
            ]
          },
          "metadata": {
            "tags": []
          },
          "execution_count": 3
        }
      ]
    },
    {
      "cell_type": "markdown",
      "metadata": {
        "id": "yOqopsRrzAmy"
      },
      "source": [
        "* Determinando os eixos para fazer a predição.\n",
        "\n"
      ]
    },
    {
      "cell_type": "code",
      "metadata": {
        "id": "GqWT3nTJzjJG"
      },
      "source": [
        "x = df.drop('Classes', axis=1)\n",
        "y = df['Classes']"
      ],
      "execution_count": null,
      "outputs": []
    },
    {
      "cell_type": "markdown",
      "metadata": {
        "id": "KnnRlxlTMZrC"
      },
      "source": [
        "* Modelo com teste de 1/3 e treino de 2/3"
      ]
    },
    {
      "cell_type": "code",
      "metadata": {
        "colab": {
          "base_uri": "https://localhost:8080/"
        },
        "id": "gO64mz_gQIfk",
        "outputId": "76227ce3-7913-49e2-fbdc-34acd4a8c458"
      },
      "source": [
        "x_train, x_test, y_train, y_test = train_test_split(x, y, test_size = 0.33)\n",
        "\n",
        "gaussModel = GaussianNB()\n",
        "gaussModel.fit(x_train, y_train)\n",
        "\n",
        "y_pred = gaussModel.predict(x_test)\n",
        "\n",
        "accuracy = metrics.accuracy_score(y_test, y_pred)*100\n",
        "accuracy"
      ],
      "execution_count": null,
      "outputs": [
        {
          "output_type": "execute_result",
          "data": {
            "text/plain": [
              "97.5609756097561"
            ]
          },
          "metadata": {
            "tags": []
          },
          "execution_count": 5
        }
      ]
    },
    {
      "cell_type": "markdown",
      "metadata": {
        "id": "OGGRiRwq0tZX"
      },
      "source": [
        "* Modelo com teste de 1/4 e treino de 3/4"
      ]
    },
    {
      "cell_type": "code",
      "metadata": {
        "colab": {
          "base_uri": "https://localhost:8080/"
        },
        "id": "0pBNJfxZNsd3",
        "outputId": "7bdedd0b-68e0-4746-c20b-6c3e47db3515"
      },
      "source": [
        "x_train2, x_test2, y_train2, y_test2 = train_test_split(x, y, test_size = 0.25)\n",
        "\n",
        "gaussModel = GaussianNB()\n",
        "gaussModel.fit(x_train2, y_train2)\n",
        "\n",
        "y_pred2 = gaussModel.predict(x_test2)\n",
        "\n",
        "accuracy2 = metrics.accuracy_score(y_test2, y_pred2)*100\n",
        "accuracy2"
      ],
      "execution_count": null,
      "outputs": [
        {
          "output_type": "execute_result",
          "data": {
            "text/plain": [
              "93.54838709677419"
            ]
          },
          "metadata": {
            "tags": []
          },
          "execution_count": 8
        }
      ]
    },
    {
      "cell_type": "markdown",
      "metadata": {
        "id": "LrLpBVSNOEo1"
      },
      "source": [
        "###B)\n",
        "Utilizando a técnica de validação cruzada"
      ]
    },
    {
      "cell_type": "code",
      "metadata": {
        "id": "Ho0Yxp__0t0b",
        "colab": {
          "base_uri": "https://localhost:8080/"
        },
        "outputId": "f55c7f36-edff-44ed-ba08-27c3022dc772"
      },
      "source": [
        "for kfold in range(5,10):\n",
        "  result = svm.SVC(kernel='linear', C=1).fit(x_train, y_train)\n",
        "  scores = cross_val_score(result, x , y, cv=kfold)\n",
        "  print(scores)"
      ],
      "execution_count": null,
      "outputs": [
        {
          "output_type": "stream",
          "text": [
            "[1.   1.   0.85 0.9  1.  ]\n",
            "[1.         1.         1.         0.94117647 0.875      1.        ]\n",
            "[1.         1.         1.         0.92857143 1.         0.85714286\n",
            " 1.        ]\n",
            "[1.         1.         1.         1.         0.91666667 0.91666667\n",
            " 0.91666667 1.        ]\n",
            "[1.         1.         1.         1.         1.         0.90909091\n",
            " 0.90909091 0.90909091 1.        ]\n"
          ],
          "name": "stdout"
        }
      ]
    },
    {
      "cell_type": "markdown",
      "metadata": {
        "id": "6jHUcozn3srf"
      },
      "source": [
        "###C)\n",
        "Repetir a e b com proporção entre as classes\n",
        "\n",
        "* Mantendo 50 de cada classe para refazer os testes"
      ]
    },
    {
      "cell_type": "code",
      "metadata": {
        "id": "BaE0JbzQ3tBj",
        "colab": {
          "base_uri": "https://localhost:8080/",
          "height": 419
        },
        "outputId": "d5edd46d-8f8d-4448-c215-e3057122048a"
      },
      "source": [
        "class_df = df.groupby('Classes')\n",
        "\n",
        "df_part1 = class_df.get_group('fire')\n",
        "df_part2 = class_df.get_group('not fire')\n",
        "\n",
        "df2 = df_part1.iloc[0:50]\n",
        "df2 = df2.append(df_part2.iloc[0:50])\n",
        "df2"
      ],
      "execution_count": null,
      "outputs": [
        {
          "output_type": "execute_result",
          "data": {
            "text/html": [
              "<div>\n",
              "<style scoped>\n",
              "    .dataframe tbody tr th:only-of-type {\n",
              "        vertical-align: middle;\n",
              "    }\n",
              "\n",
              "    .dataframe tbody tr th {\n",
              "        vertical-align: top;\n",
              "    }\n",
              "\n",
              "    .dataframe thead th {\n",
              "        text-align: right;\n",
              "    }\n",
              "</style>\n",
              "<table border=\"1\" class=\"dataframe\">\n",
              "  <thead>\n",
              "    <tr style=\"text-align: right;\">\n",
              "      <th></th>\n",
              "      <th>Temperature</th>\n",
              "      <th>RH</th>\n",
              "      <th>Ws</th>\n",
              "      <th>Rain</th>\n",
              "      <th>FFMC</th>\n",
              "      <th>DMC</th>\n",
              "      <th>DC</th>\n",
              "      <th>ISI</th>\n",
              "      <th>BUI</th>\n",
              "      <th>FWI</th>\n",
              "      <th>Classes</th>\n",
              "    </tr>\n",
              "  </thead>\n",
              "  <tbody>\n",
              "    <tr>\n",
              "      <th>5</th>\n",
              "      <td>31</td>\n",
              "      <td>67</td>\n",
              "      <td>14</td>\n",
              "      <td>0.0</td>\n",
              "      <td>82.6</td>\n",
              "      <td>5.8</td>\n",
              "      <td>22.2</td>\n",
              "      <td>3.1</td>\n",
              "      <td>7.0</td>\n",
              "      <td>2.5</td>\n",
              "      <td>fire</td>\n",
              "    </tr>\n",
              "    <tr>\n",
              "      <th>6</th>\n",
              "      <td>33</td>\n",
              "      <td>54</td>\n",
              "      <td>13</td>\n",
              "      <td>0.0</td>\n",
              "      <td>88.2</td>\n",
              "      <td>9.9</td>\n",
              "      <td>30.5</td>\n",
              "      <td>6.4</td>\n",
              "      <td>10.9</td>\n",
              "      <td>7.2</td>\n",
              "      <td>fire</td>\n",
              "    </tr>\n",
              "    <tr>\n",
              "      <th>7</th>\n",
              "      <td>30</td>\n",
              "      <td>73</td>\n",
              "      <td>15</td>\n",
              "      <td>0.0</td>\n",
              "      <td>86.6</td>\n",
              "      <td>12.1</td>\n",
              "      <td>38.3</td>\n",
              "      <td>5.6</td>\n",
              "      <td>13.5</td>\n",
              "      <td>7.1</td>\n",
              "      <td>fire</td>\n",
              "    </tr>\n",
              "    <tr>\n",
              "      <th>10</th>\n",
              "      <td>31</td>\n",
              "      <td>65</td>\n",
              "      <td>14</td>\n",
              "      <td>0.0</td>\n",
              "      <td>84.5</td>\n",
              "      <td>12.5</td>\n",
              "      <td>54.3</td>\n",
              "      <td>4.0</td>\n",
              "      <td>15.8</td>\n",
              "      <td>5.6</td>\n",
              "      <td>fire</td>\n",
              "    </tr>\n",
              "    <tr>\n",
              "      <th>11</th>\n",
              "      <td>26</td>\n",
              "      <td>81</td>\n",
              "      <td>19</td>\n",
              "      <td>0.0</td>\n",
              "      <td>84.0</td>\n",
              "      <td>13.8</td>\n",
              "      <td>61.4</td>\n",
              "      <td>4.8</td>\n",
              "      <td>17.7</td>\n",
              "      <td>7.1</td>\n",
              "      <td>fire</td>\n",
              "    </tr>\n",
              "    <tr>\n",
              "      <th>...</th>\n",
              "      <td>...</td>\n",
              "      <td>...</td>\n",
              "      <td>...</td>\n",
              "      <td>...</td>\n",
              "      <td>...</td>\n",
              "      <td>...</td>\n",
              "      <td>...</td>\n",
              "      <td>...</td>\n",
              "      <td>...</td>\n",
              "      <td>...</td>\n",
              "      <td>...</td>\n",
              "    </tr>\n",
              "    <tr>\n",
              "      <th>98</th>\n",
              "      <td>31</td>\n",
              "      <td>71</td>\n",
              "      <td>17</td>\n",
              "      <td>0.3</td>\n",
              "      <td>69.6</td>\n",
              "      <td>3.2</td>\n",
              "      <td>30.1</td>\n",
              "      <td>1.5</td>\n",
              "      <td>5.1</td>\n",
              "      <td>0.6</td>\n",
              "      <td>not fire</td>\n",
              "    </tr>\n",
              "    <tr>\n",
              "      <th>99</th>\n",
              "      <td>30</td>\n",
              "      <td>73</td>\n",
              "      <td>17</td>\n",
              "      <td>0.9</td>\n",
              "      <td>62.0</td>\n",
              "      <td>2.6</td>\n",
              "      <td>8.4</td>\n",
              "      <td>1.1</td>\n",
              "      <td>3.0</td>\n",
              "      <td>0.4</td>\n",
              "      <td>not fire</td>\n",
              "    </tr>\n",
              "    <tr>\n",
              "      <th>100</th>\n",
              "      <td>30</td>\n",
              "      <td>77</td>\n",
              "      <td>15</td>\n",
              "      <td>1.0</td>\n",
              "      <td>56.1</td>\n",
              "      <td>2.1</td>\n",
              "      <td>8.4</td>\n",
              "      <td>0.7</td>\n",
              "      <td>2.6</td>\n",
              "      <td>0.2</td>\n",
              "      <td>not fire</td>\n",
              "    </tr>\n",
              "    <tr>\n",
              "      <th>101</th>\n",
              "      <td>33</td>\n",
              "      <td>73</td>\n",
              "      <td>12</td>\n",
              "      <td>1.8</td>\n",
              "      <td>59.9</td>\n",
              "      <td>2.2</td>\n",
              "      <td>8.9</td>\n",
              "      <td>0.7</td>\n",
              "      <td>2.7</td>\n",
              "      <td>0.3</td>\n",
              "      <td>not fire</td>\n",
              "    </tr>\n",
              "    <tr>\n",
              "      <th>102</th>\n",
              "      <td>30</td>\n",
              "      <td>77</td>\n",
              "      <td>21</td>\n",
              "      <td>1.8</td>\n",
              "      <td>58.5</td>\n",
              "      <td>1.9</td>\n",
              "      <td>8.4</td>\n",
              "      <td>1.1</td>\n",
              "      <td>2.4</td>\n",
              "      <td>0.3</td>\n",
              "      <td>not fire</td>\n",
              "    </tr>\n",
              "  </tbody>\n",
              "</table>\n",
              "<p>100 rows × 11 columns</p>\n",
              "</div>"
            ],
            "text/plain": [
              "     Temperature  RH  Ws  Rain  FFMC   DMC    DC  ISI   BUI  FWI   Classes\n",
              "5             31  67  14   0.0  82.6   5.8  22.2  3.1   7.0  2.5      fire\n",
              "6             33  54  13   0.0  88.2   9.9  30.5  6.4  10.9  7.2      fire\n",
              "7             30  73  15   0.0  86.6  12.1  38.3  5.6  13.5  7.1      fire\n",
              "10            31  65  14   0.0  84.5  12.5  54.3  4.0  15.8  5.6      fire\n",
              "11            26  81  19   0.0  84.0  13.8  61.4  4.8  17.7  7.1      fire\n",
              "..           ...  ..  ..   ...   ...   ...   ...  ...   ...  ...       ...\n",
              "98            31  71  17   0.3  69.6   3.2  30.1  1.5   5.1  0.6  not fire\n",
              "99            30  73  17   0.9  62.0   2.6   8.4  1.1   3.0  0.4  not fire\n",
              "100           30  77  15   1.0  56.1   2.1   8.4  0.7   2.6  0.2  not fire\n",
              "101           33  73  12   1.8  59.9   2.2   8.9  0.7   2.7  0.3  not fire\n",
              "102           30  77  21   1.8  58.5   1.9   8.4  1.1   2.4  0.3  not fire\n",
              "\n",
              "[100 rows x 11 columns]"
            ]
          },
          "metadata": {
            "tags": []
          },
          "execution_count": 18
        }
      ]
    },
    {
      "cell_type": "markdown",
      "metadata": {
        "id": "KSgu8I914a6v"
      },
      "source": [
        "* Repetindo o experimento a com 1/3 e 2/3."
      ]
    },
    {
      "cell_type": "code",
      "metadata": {
        "id": "MhIyHK1w4bKM",
        "colab": {
          "base_uri": "https://localhost:8080/"
        },
        "outputId": "ee45985c-2459-4b36-b9aa-dd23ba6e9b8d"
      },
      "source": [
        "x = df2.drop('Classes', axis=1)\n",
        "y = df2['Classes']\n",
        "\n",
        "\n",
        "x_train, x_test, y_train, y_test = train_test_split(x, y, test_size = 0.33)\n",
        "\n",
        "gaussModel = GaussianNB()\n",
        "gaussModel.fit(x_train, y_train)\n",
        "\n",
        "y_pred = gaussModel.predict(x_test)\n",
        "\n",
        "accuracy = metrics.accuracy_score(y_test, y_pred)*100\n",
        "accuracy"
      ],
      "execution_count": null,
      "outputs": [
        {
          "output_type": "execute_result",
          "data": {
            "text/plain": [
              "90.9090909090909"
            ]
          },
          "metadata": {
            "tags": []
          },
          "execution_count": 26
        }
      ]
    },
    {
      "cell_type": "markdown",
      "metadata": {
        "id": "ukTnCRWk4kOY"
      },
      "source": [
        "* Repetindo o experimento a com 1/4 e 3/4"
      ]
    },
    {
      "cell_type": "code",
      "metadata": {
        "id": "geEq53w94khY",
        "colab": {
          "base_uri": "https://localhost:8080/"
        },
        "outputId": "0240bba1-b7d9-4b31-ee4a-8d6dac49dc8d"
      },
      "source": [
        "x_train2, x_test2, y_train2, y_test2 = train_test_split(x, y, test_size = 0.25)\n",
        "\n",
        "gaussModel = GaussianNB()\n",
        "gaussModel.fit(x_train2, y_train2)\n",
        "\n",
        "y_pred2 = gaussModel.predict(x_test2)\n",
        "\n",
        "accuracy2 = metrics.accuracy_score(y_test2, y_pred2)*100\n",
        "accuracy2"
      ],
      "execution_count": null,
      "outputs": [
        {
          "output_type": "execute_result",
          "data": {
            "text/plain": [
              "92.0"
            ]
          },
          "metadata": {
            "tags": []
          },
          "execution_count": 27
        }
      ]
    },
    {
      "cell_type": "markdown",
      "metadata": {
        "id": "5aGbHL8d5M1F"
      },
      "source": [
        "* Repetindo o experimento b com k ainda entre 5 e 10"
      ]
    },
    {
      "cell_type": "code",
      "metadata": {
        "id": "o5Kt70at5NCz",
        "colab": {
          "base_uri": "https://localhost:8080/"
        },
        "outputId": "0aa98e12-09c5-4b35-e96c-e284a0c11e4b"
      },
      "source": [
        "for kfold in range(5,10):\n",
        "  result = svm.SVC(kernel='linear', C=1).fit(x_train, y_train)\n",
        "  scores = cross_val_score(result, x , y, cv=kfold)\n",
        "  print(scores)"
      ],
      "execution_count": null,
      "outputs": [
        {
          "output_type": "stream",
          "text": [
            "[1.   1.   0.85 0.9  1.  ]\n",
            "[1.         1.         1.         0.94117647 0.875      1.        ]\n",
            "[1.         1.         1.         0.92857143 1.         0.85714286\n",
            " 1.        ]\n",
            "[1.         1.         1.         1.         0.91666667 0.91666667\n",
            " 0.91666667 1.        ]\n",
            "[1.         1.         1.         1.         1.         0.90909091\n",
            " 0.90909091 0.90909091 1.        ]\n"
          ],
          "name": "stdout"
        }
      ]
    },
    {
      "cell_type": "markdown",
      "metadata": {
        "id": "u8iEuuLB5tgu"
      },
      "source": [
        "<br><br>\n",
        "##Parte 2\n",
        "* Aplicando a técnica de Árvore de decisão ao dataframe 1 e plotando a árvore resultante."
      ]
    },
    {
      "cell_type": "code",
      "metadata": {
        "id": "73vdNJh15t1v",
        "colab": {
          "base_uri": "https://localhost:8080/",
          "height": 367
        },
        "outputId": "d2c7af25-3c75-4b1f-9b6a-24daa3bb1e15"
      },
      "source": [
        "x = df.drop('Classes', axis=1)\n",
        "y = df['Classes']\n",
        "\n",
        "\n",
        "x_train, x_test, y_train, y_test = train_test_split(x, y, test_size = 0.33)\n",
        "\n",
        "decisionTreeModel = tree.DecisionTreeClassifier() #gini é o critério padrão\n",
        "decisionTreeModel.fit(x_train, y_train)\n",
        "\n",
        "labels = ['Temperature', 'RH', 'Ws', 'Rain', 'FFMC', 'DMC', 'DC', 'ISI', 'BUI', 'FWI', 'Classes']\n",
        "classes = ['fire', 'not fire']\n",
        "\n",
        "tree.plot_tree(decisionTreeModel, class_names=classes, feature_names=labels)\n"
      ],
      "execution_count": null,
      "outputs": [
        {
          "output_type": "execute_result",
          "data": {
            "text/plain": [
              "[Text(133.92000000000002, 190.26, 'FFMC <= 80.15\\ngini = 0.494\\nsamples = 81\\nvalue = [36, 45]\\nclass = not fire'),\n",
              " Text(66.96000000000001, 135.9, 'gini = 0.0\\nsamples = 44\\nvalue = [0, 44]\\nclass = not fire'),\n",
              " Text(200.88000000000002, 135.9, 'FWI <= 3.5\\ngini = 0.053\\nsamples = 37\\nvalue = [36, 1]\\nclass = fire'),\n",
              " Text(133.92000000000002, 81.53999999999999, 'ISI <= 2.9\\ngini = 0.5\\nsamples = 2\\nvalue = [1, 1]\\nclass = fire'),\n",
              " Text(66.96000000000001, 27.180000000000007, 'gini = 0.0\\nsamples = 1\\nvalue = [1, 0]\\nclass = fire'),\n",
              " Text(200.88000000000002, 27.180000000000007, 'gini = 0.0\\nsamples = 1\\nvalue = [0, 1]\\nclass = not fire'),\n",
              " Text(267.84000000000003, 81.53999999999999, 'gini = 0.0\\nsamples = 35\\nvalue = [35, 0]\\nclass = fire')]"
            ]
          },
          "metadata": {
            "tags": []
          },
          "execution_count": 52
        },
        {
          "output_type": "display_data",
          "data": {
            "image/png": "[encoded data removed]",
            "text/plain": [
              "<Figure size 432x288 with 1 Axes>"
            ]
          },
          "metadata": {
            "tags": [],
            "needs_background": "light"
          }
        }
      ]
    },
    {
      "cell_type": "markdown",
      "metadata": {
        "id": "LbYioW8R6Kx7"
      },
      "source": [
        "<br><br>\n",
        "##Parte 3\n",
        "* Aplicando KMEANS e plotando o gráfico."
      ]
    },
    {
      "cell_type": "code",
      "metadata": {
        "id": "FRAKGFUW6LFY",
        "colab": {
          "base_uri": "https://localhost:8080/",
          "height": 282
        },
        "outputId": "1327a54a-90b4-4196-ebde-2d670f34d06b"
      },
      "source": [
        "x = df.iloc[:, [0,1,2,3,4,5,6,7,8,9]].values\n",
        "\n",
        "kmeans = KMeans(n_clusters=3)\n",
        "y_kmeans = kmeans.fit_predict(x)\n",
        "\n",
        "kmeans.cluster_centers_\n",
        "kmeans.labels_\n",
        "\n",
        "plt.scatter(x[:, 0], x[:, 1], c=y_kmeans, cmap='rainbow')\n",
        "\n"
      ],
      "execution_count": null,
      "outputs": [
        {
          "output_type": "execute_result",
          "data": {
            "text/plain": [
              "<matplotlib.collections.PathCollection at 0x7f31e146a490>"
            ]
          },
          "metadata": {
            "tags": []
          },
          "execution_count": 78
        },
        {
          "output_type": "display_data",
          "data": {
            "image/png": "[encoded data removed]",
            "text/plain": [
              "<Figure size 432x288 with 1 Axes>"
            ]
          },
          "metadata": {
            "tags": [],
            "needs_background": "light"
          }
        }
      ]
    }
  ]
}